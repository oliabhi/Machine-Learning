{
 "cells": [
  {
   "cell_type": "code",
   "execution_count": 30,
   "id": "d000c5e9-d733-4f30-b11c-db3a6b4d299b",
   "metadata": {},
   "outputs": [],
   "source": [
    "import pandas as pd\n",
    "import numpy as np"
   ]
  },
  {
   "cell_type": "code",
   "execution_count": 2,
   "id": "1ac22992-75c6-40a0-a184-8c582f806014",
   "metadata": {},
   "outputs": [],
   "source": [
    "df = pd.read_csv('Housing.csv')"
   ]
  },
  {
   "cell_type": "code",
   "execution_count": 3,
   "id": "eda80d67-8d74-4f92-8901-c26d5e5ef7b4",
   "metadata": {},
   "outputs": [
    {
     "data": {
      "text/html": [
       "<div>\n",
       "<style scoped>\n",
       "    .dataframe tbody tr th:only-of-type {\n",
       "        vertical-align: middle;\n",
       "    }\n",
       "\n",
       "    .dataframe tbody tr th {\n",
       "        vertical-align: top;\n",
       "    }\n",
       "\n",
       "    .dataframe thead th {\n",
       "        text-align: right;\n",
       "    }\n",
       "</style>\n",
       "<table border=\"1\" class=\"dataframe\">\n",
       "  <thead>\n",
       "    <tr style=\"text-align: right;\">\n",
       "      <th></th>\n",
       "      <th>price</th>\n",
       "      <th>lotsize</th>\n",
       "      <th>bedrooms</th>\n",
       "      <th>bathrms</th>\n",
       "      <th>stories</th>\n",
       "      <th>driveway</th>\n",
       "      <th>recroom</th>\n",
       "      <th>fullbase</th>\n",
       "      <th>gashw</th>\n",
       "      <th>airco</th>\n",
       "      <th>garagepl</th>\n",
       "      <th>prefarea</th>\n",
       "    </tr>\n",
       "  </thead>\n",
       "  <tbody>\n",
       "    <tr>\n",
       "      <th>0</th>\n",
       "      <td>42000.0</td>\n",
       "      <td>5850</td>\n",
       "      <td>3</td>\n",
       "      <td>1</td>\n",
       "      <td>2</td>\n",
       "      <td>yes</td>\n",
       "      <td>no</td>\n",
       "      <td>yes</td>\n",
       "      <td>no</td>\n",
       "      <td>no</td>\n",
       "      <td>1</td>\n",
       "      <td>no</td>\n",
       "    </tr>\n",
       "    <tr>\n",
       "      <th>1</th>\n",
       "      <td>38500.0</td>\n",
       "      <td>4000</td>\n",
       "      <td>2</td>\n",
       "      <td>1</td>\n",
       "      <td>1</td>\n",
       "      <td>yes</td>\n",
       "      <td>no</td>\n",
       "      <td>no</td>\n",
       "      <td>no</td>\n",
       "      <td>no</td>\n",
       "      <td>0</td>\n",
       "      <td>no</td>\n",
       "    </tr>\n",
       "    <tr>\n",
       "      <th>2</th>\n",
       "      <td>49500.0</td>\n",
       "      <td>3060</td>\n",
       "      <td>3</td>\n",
       "      <td>1</td>\n",
       "      <td>1</td>\n",
       "      <td>yes</td>\n",
       "      <td>no</td>\n",
       "      <td>no</td>\n",
       "      <td>no</td>\n",
       "      <td>no</td>\n",
       "      <td>0</td>\n",
       "      <td>no</td>\n",
       "    </tr>\n",
       "    <tr>\n",
       "      <th>3</th>\n",
       "      <td>60500.0</td>\n",
       "      <td>6650</td>\n",
       "      <td>3</td>\n",
       "      <td>1</td>\n",
       "      <td>2</td>\n",
       "      <td>yes</td>\n",
       "      <td>yes</td>\n",
       "      <td>no</td>\n",
       "      <td>no</td>\n",
       "      <td>no</td>\n",
       "      <td>0</td>\n",
       "      <td>no</td>\n",
       "    </tr>\n",
       "    <tr>\n",
       "      <th>4</th>\n",
       "      <td>61000.0</td>\n",
       "      <td>6360</td>\n",
       "      <td>2</td>\n",
       "      <td>1</td>\n",
       "      <td>1</td>\n",
       "      <td>yes</td>\n",
       "      <td>no</td>\n",
       "      <td>no</td>\n",
       "      <td>no</td>\n",
       "      <td>no</td>\n",
       "      <td>0</td>\n",
       "      <td>no</td>\n",
       "    </tr>\n",
       "  </tbody>\n",
       "</table>\n",
       "</div>"
      ],
      "text/plain": [
       "     price  lotsize  bedrooms  bathrms  stories driveway recroom fullbase  \\\n",
       "0  42000.0     5850         3        1        2      yes      no      yes   \n",
       "1  38500.0     4000         2        1        1      yes      no       no   \n",
       "2  49500.0     3060         3        1        1      yes      no       no   \n",
       "3  60500.0     6650         3        1        2      yes     yes       no   \n",
       "4  61000.0     6360         2        1        1      yes      no       no   \n",
       "\n",
       "  gashw airco  garagepl prefarea  \n",
       "0    no    no         1       no  \n",
       "1    no    no         0       no  \n",
       "2    no    no         0       no  \n",
       "3    no    no         0       no  \n",
       "4    no    no         0       no  "
      ]
     },
     "execution_count": 3,
     "metadata": {},
     "output_type": "execute_result"
    }
   ],
   "source": [
    "df.head()"
   ]
  },
  {
   "cell_type": "code",
   "execution_count": 13,
   "id": "f5c50504-e934-4d23-a34f-c910132315aa",
   "metadata": {},
   "outputs": [],
   "source": [
    "dum_df = pd.get_dummies(df , drop_first=True)"
   ]
  },
  {
   "cell_type": "code",
   "execution_count": 14,
   "id": "d12d4ded-cdaf-4dbc-9762-787dcc8da6a4",
   "metadata": {},
   "outputs": [
    {
     "data": {
      "text/html": [
       "<div>\n",
       "<style scoped>\n",
       "    .dataframe tbody tr th:only-of-type {\n",
       "        vertical-align: middle;\n",
       "    }\n",
       "\n",
       "    .dataframe tbody tr th {\n",
       "        vertical-align: top;\n",
       "    }\n",
       "\n",
       "    .dataframe thead th {\n",
       "        text-align: right;\n",
       "    }\n",
       "</style>\n",
       "<table border=\"1\" class=\"dataframe\">\n",
       "  <thead>\n",
       "    <tr style=\"text-align: right;\">\n",
       "      <th></th>\n",
       "      <th>price</th>\n",
       "      <th>lotsize</th>\n",
       "      <th>bedrooms</th>\n",
       "      <th>bathrms</th>\n",
       "      <th>stories</th>\n",
       "      <th>garagepl</th>\n",
       "      <th>driveway_yes</th>\n",
       "      <th>recroom_yes</th>\n",
       "      <th>fullbase_yes</th>\n",
       "      <th>gashw_yes</th>\n",
       "      <th>airco_yes</th>\n",
       "      <th>prefarea_yes</th>\n",
       "    </tr>\n",
       "  </thead>\n",
       "  <tbody>\n",
       "    <tr>\n",
       "      <th>0</th>\n",
       "      <td>42000.0</td>\n",
       "      <td>5850</td>\n",
       "      <td>3</td>\n",
       "      <td>1</td>\n",
       "      <td>2</td>\n",
       "      <td>1</td>\n",
       "      <td>1</td>\n",
       "      <td>0</td>\n",
       "      <td>1</td>\n",
       "      <td>0</td>\n",
       "      <td>0</td>\n",
       "      <td>0</td>\n",
       "    </tr>\n",
       "    <tr>\n",
       "      <th>1</th>\n",
       "      <td>38500.0</td>\n",
       "      <td>4000</td>\n",
       "      <td>2</td>\n",
       "      <td>1</td>\n",
       "      <td>1</td>\n",
       "      <td>0</td>\n",
       "      <td>1</td>\n",
       "      <td>0</td>\n",
       "      <td>0</td>\n",
       "      <td>0</td>\n",
       "      <td>0</td>\n",
       "      <td>0</td>\n",
       "    </tr>\n",
       "    <tr>\n",
       "      <th>2</th>\n",
       "      <td>49500.0</td>\n",
       "      <td>3060</td>\n",
       "      <td>3</td>\n",
       "      <td>1</td>\n",
       "      <td>1</td>\n",
       "      <td>0</td>\n",
       "      <td>1</td>\n",
       "      <td>0</td>\n",
       "      <td>0</td>\n",
       "      <td>0</td>\n",
       "      <td>0</td>\n",
       "      <td>0</td>\n",
       "    </tr>\n",
       "    <tr>\n",
       "      <th>3</th>\n",
       "      <td>60500.0</td>\n",
       "      <td>6650</td>\n",
       "      <td>3</td>\n",
       "      <td>1</td>\n",
       "      <td>2</td>\n",
       "      <td>0</td>\n",
       "      <td>1</td>\n",
       "      <td>1</td>\n",
       "      <td>0</td>\n",
       "      <td>0</td>\n",
       "      <td>0</td>\n",
       "      <td>0</td>\n",
       "    </tr>\n",
       "    <tr>\n",
       "      <th>4</th>\n",
       "      <td>61000.0</td>\n",
       "      <td>6360</td>\n",
       "      <td>2</td>\n",
       "      <td>1</td>\n",
       "      <td>1</td>\n",
       "      <td>0</td>\n",
       "      <td>1</td>\n",
       "      <td>0</td>\n",
       "      <td>0</td>\n",
       "      <td>0</td>\n",
       "      <td>0</td>\n",
       "      <td>0</td>\n",
       "    </tr>\n",
       "    <tr>\n",
       "      <th>...</th>\n",
       "      <td>...</td>\n",
       "      <td>...</td>\n",
       "      <td>...</td>\n",
       "      <td>...</td>\n",
       "      <td>...</td>\n",
       "      <td>...</td>\n",
       "      <td>...</td>\n",
       "      <td>...</td>\n",
       "      <td>...</td>\n",
       "      <td>...</td>\n",
       "      <td>...</td>\n",
       "      <td>...</td>\n",
       "    </tr>\n",
       "    <tr>\n",
       "      <th>541</th>\n",
       "      <td>91500.0</td>\n",
       "      <td>4800</td>\n",
       "      <td>3</td>\n",
       "      <td>2</td>\n",
       "      <td>4</td>\n",
       "      <td>0</td>\n",
       "      <td>1</td>\n",
       "      <td>1</td>\n",
       "      <td>0</td>\n",
       "      <td>0</td>\n",
       "      <td>1</td>\n",
       "      <td>0</td>\n",
       "    </tr>\n",
       "    <tr>\n",
       "      <th>542</th>\n",
       "      <td>94000.0</td>\n",
       "      <td>6000</td>\n",
       "      <td>3</td>\n",
       "      <td>2</td>\n",
       "      <td>4</td>\n",
       "      <td>0</td>\n",
       "      <td>1</td>\n",
       "      <td>0</td>\n",
       "      <td>0</td>\n",
       "      <td>0</td>\n",
       "      <td>1</td>\n",
       "      <td>0</td>\n",
       "    </tr>\n",
       "    <tr>\n",
       "      <th>543</th>\n",
       "      <td>103000.0</td>\n",
       "      <td>6000</td>\n",
       "      <td>3</td>\n",
       "      <td>2</td>\n",
       "      <td>4</td>\n",
       "      <td>1</td>\n",
       "      <td>1</td>\n",
       "      <td>1</td>\n",
       "      <td>0</td>\n",
       "      <td>0</td>\n",
       "      <td>1</td>\n",
       "      <td>0</td>\n",
       "    </tr>\n",
       "    <tr>\n",
       "      <th>544</th>\n",
       "      <td>105000.0</td>\n",
       "      <td>6000</td>\n",
       "      <td>3</td>\n",
       "      <td>2</td>\n",
       "      <td>2</td>\n",
       "      <td>1</td>\n",
       "      <td>1</td>\n",
       "      <td>1</td>\n",
       "      <td>0</td>\n",
       "      <td>0</td>\n",
       "      <td>1</td>\n",
       "      <td>0</td>\n",
       "    </tr>\n",
       "    <tr>\n",
       "      <th>545</th>\n",
       "      <td>105000.0</td>\n",
       "      <td>6000</td>\n",
       "      <td>3</td>\n",
       "      <td>1</td>\n",
       "      <td>2</td>\n",
       "      <td>1</td>\n",
       "      <td>1</td>\n",
       "      <td>0</td>\n",
       "      <td>0</td>\n",
       "      <td>0</td>\n",
       "      <td>1</td>\n",
       "      <td>0</td>\n",
       "    </tr>\n",
       "  </tbody>\n",
       "</table>\n",
       "<p>546 rows × 12 columns</p>\n",
       "</div>"
      ],
      "text/plain": [
       "        price  lotsize  bedrooms  bathrms  stories  garagepl  driveway_yes  \\\n",
       "0     42000.0     5850         3        1        2         1             1   \n",
       "1     38500.0     4000         2        1        1         0             1   \n",
       "2     49500.0     3060         3        1        1         0             1   \n",
       "3     60500.0     6650         3        1        2         0             1   \n",
       "4     61000.0     6360         2        1        1         0             1   \n",
       "..        ...      ...       ...      ...      ...       ...           ...   \n",
       "541   91500.0     4800         3        2        4         0             1   \n",
       "542   94000.0     6000         3        2        4         0             1   \n",
       "543  103000.0     6000         3        2        4         1             1   \n",
       "544  105000.0     6000         3        2        2         1             1   \n",
       "545  105000.0     6000         3        1        2         1             1   \n",
       "\n",
       "     recroom_yes  fullbase_yes  gashw_yes  airco_yes  prefarea_yes  \n",
       "0              0             1          0          0             0  \n",
       "1              0             0          0          0             0  \n",
       "2              0             0          0          0             0  \n",
       "3              1             0          0          0             0  \n",
       "4              0             0          0          0             0  \n",
       "..           ...           ...        ...        ...           ...  \n",
       "541            1             0          0          1             0  \n",
       "542            0             0          0          1             0  \n",
       "543            1             0          0          1             0  \n",
       "544            1             0          0          1             0  \n",
       "545            0             0          0          1             0  \n",
       "\n",
       "[546 rows x 12 columns]"
      ]
     },
     "execution_count": 14,
     "metadata": {},
     "output_type": "execute_result"
    }
   ],
   "source": [
    "dum_df"
   ]
  },
  {
   "cell_type": "markdown",
   "id": "0838af71-253a-4581-85dd-113ae4b90192",
   "metadata": {},
   "source": [
    "# Importing Train Test Split and KNeighborsRegressor"
   ]
  },
  {
   "cell_type": "code",
   "execution_count": 17,
   "id": "22be7f41-f762-41c7-8c2f-f52488a0324f",
   "metadata": {},
   "outputs": [],
   "source": [
    "from sklearn.model_selection import train_test_split \n",
    "from sklearn.neighbors import KNeighborsRegressor"
   ]
  },
  {
   "cell_type": "markdown",
   "id": "d3c03167-eda5-434f-9490-b50972d35990",
   "metadata": {},
   "source": [
    "- Splitting in X and Y"
   ]
  },
  {
   "cell_type": "code",
   "execution_count": 27,
   "id": "304b9087-5875-49ce-bc3f-f3a66feaf2be",
   "metadata": {},
   "outputs": [],
   "source": [
    "X = dum_df.iloc[:,1:]\n",
    "y = dum_df.iloc[:,0]"
   ]
  },
  {
   "cell_type": "code",
   "execution_count": 19,
   "id": "b7a01821-91e0-4960-928a-1b2c45b75b33",
   "metadata": {},
   "outputs": [],
   "source": [
    "# Create training and test sets\n",
    "X_train, X_test, y_train, y_test = train_test_split(X, y,test_size = 0.3, \n",
    "                                                    random_state=2021)"
   ]
  },
  {
   "cell_type": "markdown",
   "id": "238225e1-24a8-45c5-a3bc-5227de09b7fb",
   "metadata": {},
   "source": [
    "# Initialising KNeighborsRegressor Object"
   ]
  },
  {
   "cell_type": "code",
   "execution_count": 22,
   "id": "c8d710c9-4fa4-4812-a967-c480139fe555",
   "metadata": {},
   "outputs": [],
   "source": [
    "knn = KNeighborsRegressor(n_neighbors=1)"
   ]
  },
  {
   "cell_type": "markdown",
   "id": "76cf1cc0-b71e-42b6-9a69-4351c651cd23",
   "metadata": {},
   "source": [
    "# Fitting the model with X_train and y_train"
   ]
  },
  {
   "cell_type": "code",
   "execution_count": 23,
   "id": "1ca155e0-b7c2-4980-b94d-ccfc1fb9c706",
   "metadata": {},
   "outputs": [],
   "source": [
    "knn.fit( X_train , y_train )"
   ]
  },
  {
   "cell_type": "markdown",
   "id": "71ea93bd-df77-4fbc-84f0-90a8a376de34",
   "metadata": {},
   "source": [
    "# Prediction"
   ]
  },
  {
   "cell_type": "code",
   "execution_count": 24,
   "id": "f750d570-c7f4-462e-8c3d-64975a0d7676",
   "metadata": {},
   "outputs": [],
   "source": [
    "y_pred = knn.predict(X_test)"
   ]
  },
  {
   "cell_type": "code",
   "execution_count": 25,
   "id": "ee0c850a-511f-441c-ba59-4e160d3fc493",
   "metadata": {},
   "outputs": [
    {
     "data": {
      "text/plain": [
       "array([ 40500.,  30500., 102000.,  67000.,  45000.,  86000., 122000.,\n",
       "        51000.,  86000.,  92000.,  68100., 101000., 114900.,  61500.,\n",
       "        54000.,  51500.,  51000.,  72000.,  64000., 102000.,  47900.,\n",
       "        95000.,  50000.,  58900.,  42000.,  85000.,  45000.,  51000.,\n",
       "       105000.,  37000.,  75000.,  60000.,  71900., 104900.,  70800.,\n",
       "        64900.,  47000.,  47000.,  55000.,  86000.,  60000.,  75000.,\n",
       "        51000.,  36000.,  86900.,  44000.,  61000.,  47000.,  87000.,\n",
       "        80750., 126500.,  62900.,  76900.,  40000.,  44900.,  75000.,\n",
       "        47900.,  51500.,  40000.,  63000., 101000.,  68100.,  43000.,\n",
       "       124000., 107500.,  50000.,  55000., 120000.,  58500., 101000.,\n",
       "        47000.,  64000.,  46000.,  70000.,  66500.,  96000.,  47000.,\n",
       "        27000.,  49000.,  40500.,  78900.,  41000.,  78900.,  35500.,\n",
       "        44100.,  51000., 163000.,  49000.,  92000.,  83900.,  35500.,\n",
       "        73000.,  50000.,  51000.,  45000., 125000.,  60000.,  44000.,\n",
       "        60000.,  64900.,  82000.,  40500.,  60000.,  47000.,  58550.,\n",
       "        71000.,  57000.,  68000.,  35000.,  78000.,  60500.,  83900.,\n",
       "        50000.,  37000.,  52000., 105000.,  35500.,  80000.,  85000.,\n",
       "        75000.,  46000., 132000.,  49000.,  75000.,  64500.,  73000.,\n",
       "        96500.,  50000.,  55000.,  74500.,  63000.,  43000.,  49000.,\n",
       "        49000.,  75000.,  92000., 107500.,  93000.,  30000.,  96500.,\n",
       "        96000.,  36000.,  47000., 114900.,  96500.,  58900.,  51000.,\n",
       "        35000.,  67000.,  60000.,  83000., 112000.,  96500.,  69000.,\n",
       "        53000.,  57250.,  70000.,  48000.,  74500.,  39000., 113000.,\n",
       "        43500., 123500., 105000.])"
      ]
     },
     "execution_count": 25,
     "metadata": {},
     "output_type": "execute_result"
    }
   ],
   "source": [
    "y_pred"
   ]
  },
  {
   "cell_type": "markdown",
   "id": "5b052302-c22a-46c4-9a31-2ed280977fc5",
   "metadata": {},
   "source": [
    "# Importing R2 score and msq and rmse"
   ]
  },
  {
   "cell_type": "code",
   "execution_count": 28,
   "id": "c36da045-3301-40b6-a473-62447b6bf8e5",
   "metadata": {},
   "outputs": [],
   "source": [
    "from sklearn.metrics import mean_squared_error,mean_absolute_error,r2_score"
   ]
  },
  {
   "cell_type": "code",
   "execution_count": 31,
   "id": "3bc17e13-f784-49fb-a961-700067cd935b",
   "metadata": {},
   "outputs": [
    {
     "name": "stdout",
     "output_type": "stream",
     "text": [
      "25103.948528215977\n",
      "17771.951219512193\n",
      "0.04470080710701929\n"
     ]
    }
   ],
   "source": [
    "print( np.sqrt( mean_squared_error(y_test, y_pred)))\n",
    "print(mean_absolute_error(y_test, y_pred))\n",
    "print(r2_score(y_test, y_pred))"
   ]
  },
  {
   "cell_type": "code",
   "execution_count": null,
   "id": "15867324-37bf-49f2-a756-f823a0e33e45",
   "metadata": {},
   "outputs": [],
   "source": []
  }
 ],
 "metadata": {
  "kernelspec": {
   "display_name": "Python 3",
   "language": "python",
   "name": "python3"
  },
  "language_info": {
   "codemirror_mode": {
    "name": "ipython",
    "version": 3
   },
   "file_extension": ".py",
   "mimetype": "text/x-python",
   "name": "python",
   "nbconvert_exporter": "python",
   "pygments_lexer": "ipython3",
   "version": "3.8.8"
  }
 },
 "nbformat": 4,
 "nbformat_minor": 5
}
